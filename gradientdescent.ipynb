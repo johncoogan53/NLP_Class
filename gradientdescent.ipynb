{
 "cells": [
  {
   "cell_type": "markdown",
   "metadata": {},
   "source": [
    "# Gradient Descent Homework"
   ]
  },
  {
   "cell_type": "markdown",
   "metadata": {},
   "source": [
    "For this assingment we were given an unigram language model that is trained on the Jane Austen corpus, \"Sense and Sensibility\". We were asked to find an appropriate learning rate and number of iterations for gradient descent. Below I show a plot for the loss as a function of runs with the associated predicted vocabulary probabilities against the true unigram probabilities. The minimum theoretical loss is the computed loss for the true probabilities of the unigrams in the training data. We see convergence towards this value since, if our model is operating perfectly, we should accurately assign all vocabulary characters to their true values with any OOV characters captured in the 'None' token probability."
   ]
  },
  {
   "cell_type": "markdown",
   "metadata": {},
   "source": [
    "![Alt text](GDFig1.png)"
   ]
  },
  {
   "cell_type": "markdown",
   "metadata": {},
   "source": [
    "We can also see that the sum of the differences between true probabilities and predicted probabiliites in this learning rate/number of runs example is very low. This indicates that after 150 runs we have a predicted probabilities very close to the true unigram values. "
   ]
  },
  {
   "cell_type": "markdown",
   "metadata": {},
   "source": [
    "We can show what this model's initialized probabilities are by plotting the model at 0 iterations:"
   ]
  },
  {
   "cell_type": "markdown",
   "metadata": {},
   "source": [
    "![Alt text](GDFig2.png)\n"
   ]
  },
  {
   "cell_type": "markdown",
   "metadata": {},
   "source": [
    "This shows the initialized p values which are the sigmoid logit of 1/V which approximately 0.03. So we can see that our gradient descent is taking the appropriately initialized predictions, initialized as a uniform distribution, and accurately shifting them towards the desired unigram probabilities."
   ]
  }
 ],
 "metadata": {
  "kernelspec": {
   "display_name": "base",
   "language": "python",
   "name": "python3"
  },
  "language_info": {
   "codemirror_mode": {
    "name": "ipython",
    "version": 3
   },
   "file_extension": ".py",
   "mimetype": "text/x-python",
   "name": "python",
   "nbconvert_exporter": "python",
   "pygments_lexer": "ipython3",
   "version": "3.11.5"
  },
  "orig_nbformat": 4
 },
 "nbformat": 4,
 "nbformat_minor": 2
}
